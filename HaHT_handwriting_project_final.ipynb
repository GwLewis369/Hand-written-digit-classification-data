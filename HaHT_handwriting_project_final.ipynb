{
  "cells": [
    {
      "cell_type": "markdown",
      "metadata": {
        "id": "view-in-github",
        "colab_type": "text"
      },
      "source": [
        "<a href=\"https://colab.research.google.com/github/GwLewis369/Hand-written-digit-classification-data/blob/23521419/HaHT_handwriting_project_final.ipynb\" target=\"_parent\"><img src=\"https://colab.research.google.com/assets/colab-badge.svg\" alt=\"Open In Colab\"/></a>"
      ]
    },
    {
      "cell_type": "markdown",
      "metadata": {
        "id": "JHTj09otKgH4"
      },
      "source": [
        "Để đỡ mất thời gian tải dữ liệu và train model. Mình chọn thêm lối tắt 3 thư mục sau vào \"Drive của tôi\":\n",
        "\n",
        "[test_data](https://drive.google.com/drive/folders/1LvDfkPWWDnmtdOk1uLr-ibBAlrlfuKIC?usp=drive_link)\n",
        "\n",
        "[train_data](https://drive.google.com/drive/folders/1Kla7-YnlAA_ppL92YGlX-bYBt3ZIBwRD?usp=sharing)\n",
        "\n",
        "[model_vit](https://drive.google.com/file/d/1MdtnI1Vuefj35aZlH8nVn8caqg5D8bXU/view?usp=sharing)\n",
        "\n",
        "Sau đó chỉ chạy"
      ]
    },
    {
      "cell_type": "markdown",
      "metadata": {
        "id": "yxQuPy8zwNlf"
      },
      "source": [
        "### Extract 10k image for test"
      ]
    },
    {
      "cell_type": "code",
      "execution_count": 1,
      "metadata": {
        "id": "IWNgZFwMSE7W"
      },
      "outputs": [],
      "source": [
        "github_list = '''https://github.com/GwLewis369/Hand-written-digit-classification-data.git\n",
        "https://github.com/gbaonr/CS114_handwritten_digits_data\n",
        "https://github.com/adamwhite625/CS114_hand_written_digit.git\n",
        "https://github.com/theRaven1312/CS114.P21\n",
        "https://github.com/Khoiisme1905/CS114.git\n",
        "https://github.com/ProjectHT1/machinelearning\n",
        "https://github.com/Searching96/hand-written-digit.git\n",
        "https://github.com/Salmon1605/CS114\n",
        "https://github.com/anhtuann1224/hand_written_digit\n",
        "https://github.com/NATuanAN/Hand_written_digit_classification_data.git\n",
        "https://github.com/hieutran890j2/CS114.git\n",
        "https://github.com/votanhoang483/CS114.P21-Hand_written_digit_classification\n",
        "https://github.com/DHPh/CS114_hand_written_digit/\n",
        "https://github.com/thaituanUIT/ReminiScenceAI\n",
        "https://github.com/anngyn/CS114-Hand-Written-Digit\n",
        "https://github.com/Toan02Ky-UIT/CS114\n",
        "https://github.com/Lochke/CS114_Handwritten_Digit_Classification.git\n",
        "https://github.com/toanlamdata/digit-recognition-group\n",
        "https://github.com/Nohenshin/CS114.P21-2025-\n",
        "https://github.com/hmcslearning/ML1142025\n",
        "https://github.com/lngphgthao/cs114-hand-written-digit-classification\n",
        "https://github.com/huapogba/may-hoc\n",
        "https://github.com/NThong325/CS114/\n",
        "https://github.com/23520276/Hand-written-digit-classification/\n",
        "'''"
      ]
    },
    {
      "cell_type": "code",
      "execution_count": 2,
      "metadata": {
        "id": "B7zsdTkhwKDr",
        "colab": {
          "base_uri": "https://localhost:8080/"
        },
        "outputId": "208affa1-d098-422c-c5dd-b5a62fb38e1e"
      },
      "outputs": [
        {
          "output_type": "stream",
          "name": "stdout",
          "text": [
            "Drive already mounted at /content/drive; to attempt to forcibly remount, call drive.mount(\"/content/drive\", force_remount=True).\n"
          ]
        }
      ],
      "source": [
        "from google.colab import drive\n",
        "import os\n",
        "drive.mount('/content/drive')\n",
        "data_dir = '/content/drive/MyDrive/CS114.P21'\n",
        "if not os.path.exists(data_dir):\n",
        "    os.makedirs(data_dir)\n",
        "    print(f\"Created directory: {data_dir}\")"
      ]
    },
    {
      "cell_type": "code",
      "execution_count": 3,
      "metadata": {
        "id": "Ln9wsuMgK79Q",
        "colab": {
          "base_uri": "https://localhost:8080/"
        },
        "outputId": "6212c5f1-bb51-4d18-9b96-a9783eba9be8"
      },
      "outputs": [
        {
          "output_type": "stream",
          "name": "stdout",
          "text": [
            "/content/drive/MyDrive/CS114.P21\n",
            "Cloning into '/tmp/GwLewis369_Hand-written-digit-classification-data.git'...\n",
            "remote: Enumerating objects: 397, done.\u001b[K\n",
            "remote: Counting objects: 100% (397/397), done.\u001b[K\n",
            "remote: Compressing objects: 100% (382/382), done.\u001b[K\n",
            "remote: Total 397 (delta 5), reused 103 (delta 0), pack-reused 0 (from 0)\u001b[K\n",
            "Receiving objects: 100% (397/397), 23.05 MiB | 18.92 MiB/s, done.\n",
            "Resolving deltas: 100% (5/5), done.\n",
            "Cloning into '/tmp/gbaonr_CS114_handwritten_digits_data'...\n",
            "remote: Enumerating objects: 837, done.\u001b[K\n",
            "remote: Counting objects: 100% (837/837), done.\u001b[K\n",
            "remote: Compressing objects: 100% (822/822), done.\u001b[K\n",
            "remote: Total 837 (delta 14), reused 721 (delta 10), pack-reused 0 (from 0)\u001b[K\n",
            "Receiving objects: 100% (837/837), 27.23 MiB | 15.41 MiB/s, done.\n",
            "Resolving deltas: 100% (14/14), done.\n",
            "Cloning into '/tmp/adamwhite625_CS114_hand_written_digit.git'...\n",
            "remote: Enumerating objects: 350, done.\u001b[K\n",
            "remote: Counting objects: 100% (350/350), done.\u001b[K\n",
            "remote: Compressing objects: 100% (342/342), done.\u001b[K\n",
            "remote: Total 350 (delta 6), reused 110 (delta 0), pack-reused 0 (from 0)\u001b[K\n",
            "Receiving objects: 100% (350/350), 15.14 MiB | 18.77 MiB/s, done.\n",
            "Resolving deltas: 100% (6/6), done.\n",
            "Cloning into '/tmp/theRaven1312_CS114.P21'...\n",
            "remote: Enumerating objects: 446, done.\u001b[K\n",
            "remote: Counting objects: 100% (76/76), done.\u001b[K\n",
            "remote: Compressing objects: 100% (42/42), done.\u001b[K\n",
            "remote: Total 446 (delta 44), reused 62 (delta 32), pack-reused 370 (from 1)\u001b[K\n",
            "Receiving objects: 100% (446/446), 43.31 MiB | 12.24 MiB/s, done.\n",
            "Resolving deltas: 100% (64/64), done.\n",
            "Cloning into '/tmp/Khoiisme1905_CS114.git'...\n",
            "remote: Enumerating objects: 537, done.\u001b[K\n",
            "remote: Counting objects: 100% (120/120), done.\u001b[K\n",
            "remote: Compressing objects: 100% (114/114), done.\u001b[K\n",
            "remote: Total 537 (delta 6), reused 118 (delta 5), pack-reused 417 (from 1)\u001b[K\n",
            "Receiving objects: 100% (537/537), 75.01 MiB | 14.85 MiB/s, done.\n",
            "Resolving deltas: 100% (7/7), done.\n",
            "Cloning into '/tmp/ProjectHT1_machinelearning'...\n",
            "remote: Enumerating objects: 330, done.\u001b[K\n",
            "remote: Counting objects: 100% (118/118), done.\u001b[K\n",
            "remote: Compressing objects: 100% (117/117), done.\u001b[K\n",
            "remote: Total 330 (delta 0), reused 118 (delta 0), pack-reused 212 (from 1)\u001b[K\n",
            "Receiving objects: 100% (330/330), 237.18 MiB | 14.36 MiB/s, done.\n",
            "Updating files: 100% (314/314), done.\n",
            "Cloning into '/tmp/Searching96_hand-written-digit.git'...\n",
            "remote: Enumerating objects: 311, done.\u001b[K\n",
            "remote: Counting objects: 100% (311/311), done.\u001b[K\n",
            "remote: Compressing objects: 100% (309/309), done.\u001b[K\n",
            "remote: Total 311 (delta 1), reused 307 (delta 0), pack-reused 0 (from 0)\u001b[K\n",
            "Receiving objects: 100% (311/311), 8.95 MiB | 18.81 MiB/s, done.\n",
            "Resolving deltas: 100% (1/1), done.\n",
            "Cloning into '/tmp/Salmon1605_CS114'...\n",
            "remote: Enumerating objects: 258, done.\u001b[K\n",
            "remote: Counting objects: 100% (258/258), done.\u001b[K\n",
            "remote: Compressing objects: 100% (256/256), done.\u001b[K\n",
            "remote: Total 258 (delta 0), reused 258 (delta 0), pack-reused 0 (from 0)\u001b[K\n",
            "Receiving objects: 100% (258/258), 16.80 MiB | 17.34 MiB/s, done.\n",
            "Cloning into '/tmp/anhtuann1224_hand_written_digit'...\n",
            "remote: Enumerating objects: 505, done.\u001b[K\n",
            "remote: Counting objects: 100% (7/7), done.\u001b[K\n",
            "remote: Compressing objects: 100% (4/4), done.\u001b[K\n",
            "remote: Total 505 (delta 5), reused 3 (delta 3), pack-reused 498 (from 1)\u001b[K\n",
            "Receiving objects: 100% (505/505), 341.53 MiB | 14.26 MiB/s, done.\n",
            "Resolving deltas: 100% (10/10), done.\n",
            "Updating files: 100% (407/407), done.\n",
            "Cloning into '/tmp/NATuanAN_Hand_written_digit_classification_data.git'...\n",
            "remote: Enumerating objects: 136, done.\u001b[K\n",
            "remote: Counting objects: 100% (136/136), done.\u001b[K\n",
            "remote: Compressing objects: 100% (129/129), done.\u001b[K\n",
            "remote: Total 136 (delta 1), reused 135 (delta 0), pack-reused 0 (from 0)\u001b[K\n",
            "Receiving objects: 100% (136/136), 2.15 MiB | 27.57 MiB/s, done.\n",
            "Resolving deltas: 100% (1/1), done.\n",
            "Cloning into '/tmp/hieutran890j2_CS114.git'...\n",
            "remote: Enumerating objects: 416, done.\u001b[K\n",
            "remote: Counting objects: 100% (416/416), done.\u001b[K\n",
            "remote: Compressing objects: 100% (411/411), done.\u001b[K\n",
            "remote: Total 416 (delta 2), reused 414 (delta 0), pack-reused 0 (from 0)\u001b[K\n",
            "Receiving objects: 100% (416/416), 12.75 MiB | 18.49 MiB/s, done.\n",
            "Resolving deltas: 100% (2/2), done.\n",
            "Cloning into '/tmp/votanhoang483_CS114.P21-Hand_written_digit_classification'...\n",
            "remote: Enumerating objects: 663, done.\u001b[K\n",
            "remote: Counting objects: 100% (68/68), done.\u001b[K\n",
            "remote: Compressing objects: 100% (68/68), done.\u001b[K\n",
            "remote: Total 663 (delta 0), reused 65 (delta 0), pack-reused 595 (from 1)\u001b[K\n",
            "Receiving objects: 100% (663/663), 194.05 MiB | 14.43 MiB/s, done.\n",
            "Resolving deltas: 100% (10/10), done.\n",
            "Updating files: 100% (624/624), done.\n",
            "Cloning into '/tmp/DHPh_CS114_hand_written_digit'...\n",
            "remote: Enumerating objects: 480, done.\u001b[K\n",
            "remote: Counting objects: 100% (266/266), done.\u001b[K\n",
            "remote: Compressing objects: 100% (254/254), done.\u001b[K\n",
            "remote: Total 480 (delta 9), reused 132 (delta 1), pack-reused 214 (from 1)\u001b[K\n",
            "Receiving objects: 100% (480/480), 83.99 MiB | 17.42 MiB/s, done.\n",
            "Resolving deltas: 100% (9/9), done.\n",
            "Cloning into '/tmp/thaituanUIT_ReminiScenceAI'...\n",
            "remote: Enumerating objects: 213, done.\u001b[K\n",
            "remote: Counting objects: 100% (213/213), done.\u001b[K\n",
            "remote: Compressing objects: 100% (208/208), done.\u001b[K\n",
            "remote: Total 213 (delta 26), reused 136 (delta 2), pack-reused 0 (from 0)\u001b[K\n",
            "Receiving objects: 100% (213/213), 2.72 MiB | 42.13 MiB/s, done.\n",
            "Resolving deltas: 100% (26/26), done.\n",
            "Cloning into '/tmp/anngyn_CS114-Hand-Written-Digit'...\n",
            "remote: Enumerating objects: 241, done.\u001b[K\n",
            "remote: Counting objects: 100% (5/5), done.\u001b[K\n",
            "remote: Compressing objects: 100% (4/4), done.\u001b[K\n",
            "remote: Total 241 (delta 0), reused 5 (delta 0), pack-reused 236 (from 1)\u001b[K\n",
            "Receiving objects: 100% (241/241), 104.54 MiB | 16.54 MiB/s, done.\n",
            "Cloning into '/tmp/Toan02Ky-UIT_CS114'...\n",
            "remote: Enumerating objects: 593, done.\u001b[K\n",
            "remote: Counting objects: 100% (350/350), done.\u001b[K\n",
            "remote: Compressing objects: 100% (347/347), done.\u001b[K\n",
            "remote: Total 593 (delta 12), reused 103 (delta 0), pack-reused 243 (from 2)\u001b[K\n",
            "Receiving objects: 100% (593/593), 164.41 MiB | 17.83 MiB/s, done.\n",
            "Resolving deltas: 100% (13/13), done.\n",
            "Cloning into '/tmp/Lochke_CS114_Handwritten_Digit_Classification.git'...\n",
            "remote: Enumerating objects: 268, done.\u001b[K\n",
            "remote: Counting objects: 100% (28/28), done.\u001b[K\n",
            "remote: Compressing objects: 100% (21/21), done.\u001b[K\n",
            "remote: Total 268 (delta 9), reused 22 (delta 7), pack-reused 240 (from 1)\u001b[K\n",
            "Receiving objects: 100% (268/268), 63.08 MiB | 15.85 MiB/s, done.\n",
            "Resolving deltas: 100% (33/33), done.\n",
            "Cloning into '/tmp/toanlamdata_digit-recognition-group'...\n",
            "remote: Enumerating objects: 189, done.\u001b[K\n",
            "remote: Counting objects: 100% (79/79), done.\u001b[K\n",
            "remote: Compressing objects: 100% (77/77), done.\u001b[K\n",
            "remote: Total 189 (delta 0), reused 72 (delta 0), pack-reused 110 (from 2)\u001b[K\n",
            "Receiving objects: 100% (189/189), 150.77 MiB | 15.33 MiB/s, done.\n",
            "Cloning into '/tmp/Nohenshin_CS114.P21-2025-'...\n",
            "remote: Enumerating objects: 320, done.\u001b[K\n",
            "remote: Counting objects: 100% (320/320), done.\u001b[K\n",
            "remote: Compressing objects: 100% (316/316), done.\u001b[K\n",
            "remote: Total 320 (delta 1), reused 108 (delta 0), pack-reused 0 (from 0)\u001b[K\n",
            "Receiving objects: 100% (320/320), 1.24 MiB | 32.55 MiB/s, done.\n",
            "Resolving deltas: 100% (1/1), done.\n",
            "Cloning into '/tmp/hmcslearning_ML1142025'...\n",
            "remote: Enumerating objects: 120, done.\u001b[K\n",
            "remote: Counting objects: 100% (120/120), done.\u001b[K\n",
            "remote: Compressing objects: 100% (112/112), done.\u001b[K\n",
            "remote: Total 120 (delta 1), reused 0 (delta 0), pack-reused 0 (from 0)\u001b[K\n",
            "Receiving objects: 100% (120/120), 27.03 MiB | 12.50 MiB/s, done.\n",
            "Resolving deltas: 100% (1/1), done.\n",
            "Cloning into '/tmp/lngphgthao_cs114-hand-written-digit-classification'...\n",
            "remote: Enumerating objects: 478, done.\u001b[K\n",
            "remote: Counting objects: 100% (478/478), done.\u001b[K\n",
            "remote: Compressing objects: 100% (466/466), done.\u001b[K\n",
            "remote: Total 478 (delta 19), reused 221 (delta 4), pack-reused 0 (from 0)\u001b[K\n",
            "Receiving objects: 100% (478/478), 127.85 MiB | 16.24 MiB/s, done.\n",
            "Resolving deltas: 100% (19/19), done.\n",
            "Cloning into '/tmp/huapogba_may-hoc'...\n",
            "remote: Enumerating objects: 465, done.\u001b[K\n",
            "remote: Counting objects: 100% (293/293), done.\u001b[K\n",
            "remote: Compressing objects: 100% (217/217), done.\u001b[K\n",
            "remote: Total 465 (delta 178), reused 115 (delta 71), pack-reused 172 (from 1)\u001b[K\n",
            "Receiving objects: 100% (465/465), 24.51 MiB | 9.85 MiB/s, done.\n",
            "Resolving deltas: 100% (244/244), done.\n",
            "Cloning into '/tmp/NThong325_CS114'...\n",
            "remote: Enumerating objects: 915, done.\u001b[K\n",
            "remote: Counting objects: 100% (310/310), done.\u001b[K\n",
            "remote: Compressing objects: 100% (264/264), done.\u001b[K\n",
            "remote: Total 915 (delta 84), reused 0 (delta 0), pack-reused 605 (from 2)\u001b[K\n",
            "Receiving objects: 100% (915/915), 202.70 MiB | 16.38 MiB/s, done.\n",
            "Resolving deltas: 100% (264/264), done.\n",
            "Updating files: 100% (310/310), done.\n",
            "Cloning into '/tmp/23520276_Hand-written-digit-classification'...\n",
            "remote: Enumerating objects: 146, done.\u001b[K\n",
            "remote: Counting objects: 100% (146/146), done.\u001b[K\n",
            "remote: Compressing objects: 100% (140/140), done.\u001b[K\n",
            "remote: Total 146 (delta 10), reused 0 (delta 0), pack-reused 0 (from 0)\u001b[K\n",
            "Receiving objects: 100% (146/146), 20.13 MiB | 7.95 MiB/s, done.\n",
            "Resolving deltas: 100% (10/10), done.\n"
          ]
        }
      ],
      "source": [
        "# Không cần chạy\n",
        "\n",
        "%cd $data_dir\n",
        "!git config --global core.compression 0\n",
        "!rm -rf $data_dir/*\n",
        "for i in github_list.split():\n",
        "  # !echo $i\n",
        "  # !git clone $i\n",
        "  dir_name = !echo \"$i\" | sed -E 's|https://github.com/([^/]+)/([^/]+)(\\.git)?|\\1_\\2|'\n",
        "  dir_name = dir_name[0]\n",
        "  # print(dir_name[0])\n",
        "  !git clone $i /tmp/$dir_name || rm -rf /tmp/$dir_name\n",
        "  !mv /tmp/$dir_name $data_dir/$dir_name\n",
        "  # !echo $dir_name\n",
        "  # !git clone $i"
      ]
    },
    {
      "cell_type": "code",
      "execution_count": 4,
      "metadata": {
        "colab": {
          "base_uri": "https://localhost:8080/"
        },
        "id": "1VSzbm5KxlDe",
        "outputId": "2e6ce90d-f441-471e-eb29-bb54652e4c2d"
      },
      "outputs": [
        {
          "output_type": "stream",
          "name": "stdout",
          "text": [
            "24\n",
            "24\n",
            "data_preparation.ipynb\txu_li_anh_bao_cao_50_epoch  xu_li_anh_resize\n",
            "xu_li_anh_bao_cao\txu_li_anh_grayscale\n"
          ]
        }
      ],
      "source": [
        "!ls $data_dir | wc -l\n",
        "print(len(github_list.split()))\n",
        "\n",
        "!ls $data_dir/huapogba_may-hoc/hand_written_digit"
      ]
    },
    {
      "cell_type": "code",
      "execution_count": 5,
      "metadata": {
        "colab": {
          "base_uri": "https://localhost:8080/"
        },
        "id": "kTQxMzthxpnE",
        "outputId": "b841854f-0c19-4500-fe71-559841ae943a"
      },
      "outputs": [
        {
          "output_type": "stream",
          "name": "stdout",
          "text": [
            "['/content/drive/MyDrive/CS114.P21/GwLewis369_Hand-written-digit-classification-data.git/hand_written_digit/22520369', '/content/drive/MyDrive/CS114.P21/GwLewis369_Hand-written-digit-classification-data.git/hand_written_digit/23521387', '/content/drive/MyDrive/CS114.P21/GwLewis369_Hand-written-digit-classification-data.git/hand_written_digit/23521419', '/content/drive/MyDrive/CS114.P21/gbaonr_CS114_handwritten_digits_data/hand_written_digit/22520068', '/content/drive/MyDrive/CS114.P21/gbaonr_CS114_handwritten_digits_data/hand_written_digit/22520069', '/content/drive/MyDrive/CS114.P21/gbaonr_CS114_handwritten_digits_data/hand_written_digit/22520109', '/content/drive/MyDrive/CS114.P21/adamwhite625_CS114_hand_written_digit.git/hand_written_digit/23520550', '/content/drive/MyDrive/CS114.P21/adamwhite625_CS114_hand_written_digit.git/hand_written_digit/23520667', '/content/drive/MyDrive/CS114.P21/adamwhite625_CS114_hand_written_digit.git/hand_written_digit/23521481', '/content/drive/MyDrive/CS114.P21/theRaven1312_CS114.P21/hand_written_digit/23520172', '/content/drive/MyDrive/CS114.P21/theRaven1312_CS114.P21/hand_written_digit/23520422', '/content/drive/MyDrive/CS114.P21/theRaven1312_CS114.P21/hand_written_digit/23520513', '/content/drive/MyDrive/CS114.P21/Khoiisme1905_CS114.git/hand_written_digit/22520077', '/content/drive/MyDrive/CS114.P21/Khoiisme1905_CS114.git/hand_written_digit/22520696', '/content/drive/MyDrive/CS114.P21/Khoiisme1905_CS114.git/hand_written_digit/22521154', '/content/drive/MyDrive/CS114.P21/Khoiisme1905_CS114.git/hand_written_digit/22521583', '/content/drive/MyDrive/CS114.P21/ProjectHT1_machinelearning/hand_written_digit/23520553', '/content/drive/MyDrive/CS114.P21/ProjectHT1_machinelearning/hand_written_digit/23520790', '/content/drive/MyDrive/CS114.P21/ProjectHT1_machinelearning/hand_written_digit/23520905', '/content/drive/MyDrive/CS114.P21/Searching96_hand-written-digit.git/hand_written_digit/23521503', '/content/drive/MyDrive/CS114.P21/Searching96_hand-written-digit.git/hand_written_digit/23521511', '/content/drive/MyDrive/CS114.P21/Searching96_hand-written-digit.git/hand_written_digit/23521515', '/content/drive/MyDrive/CS114.P21/anhtuann1224_hand_written_digit/hand_written_digit/23520886', '/content/drive/MyDrive/CS114.P21/anhtuann1224_hand_written_digit/hand_written_digit/23520956', '/content/drive/MyDrive/CS114.P21/anhtuann1224_hand_written_digit/hand_written_digit/23521727', '/content/drive/MyDrive/CS114.P21/anhtuann1224_hand_written_digit/hand_written_digit/23521787', '/content/drive/MyDrive/CS114.P21/NATuanAN_Hand_written_digit_classification_data.git/hand_written_digit/22521604', '/content/drive/MyDrive/CS114.P21/NATuanAN_Hand_written_digit_classification_data.git/hand_written_digit/23520967', '/content/drive/MyDrive/CS114.P21/hieutran890j2_CS114.git/hand_written_digit/22520710', '/content/drive/MyDrive/CS114.P21/hieutran890j2_CS114.git/hand_written_digit/23520705', '/content/drive/MyDrive/CS114.P21/hieutran890j2_CS114.git/hand_written_digit/23520732', '/content/drive/MyDrive/CS114.P21/hieutran890j2_CS114.git/hand_written_digit/23521085', '/content/drive/MyDrive/CS114.P21/votanhoang483_CS114.P21-Hand_written_digit_classification/hand_written_digit/22520483', '/content/drive/MyDrive/CS114.P21/votanhoang483_CS114.P21-Hand_written_digit_classification/hand_written_digit/23520117', '/content/drive/MyDrive/CS114.P21/votanhoang483_CS114.P21-Hand_written_digit_classification/hand_written_digit/23520566', '/content/drive/MyDrive/CS114.P21/votanhoang483_CS114.P21-Hand_written_digit_classification/hand_written_digit/23521839', '/content/drive/MyDrive/CS114.P21/DHPh_CS114_hand_written_digit/hand_written_digit/22520192', '/content/drive/MyDrive/CS114.P21/DHPh_CS114_hand_written_digit/hand_written_digit/23520520', '/content/drive/MyDrive/CS114.P21/DHPh_CS114_hand_written_digit/hand_written_digit/23520746', '/content/drive/MyDrive/CS114.P21/thaituanUIT_ReminiScenceAI/hand_written_digit/23521229', '/content/drive/MyDrive/CS114.P21/thaituanUIT_ReminiScenceAI/hand_written_digit/23521374', '/content/drive/MyDrive/CS114.P21/thaituanUIT_ReminiScenceAI/hand_written_digit/23521706', '/content/drive/MyDrive/CS114.P21/anngyn_CS114-Hand-Written-Digit/hand_written_digit/22520019', '/content/drive/MyDrive/CS114.P21/anngyn_CS114-Hand-Written-Digit/hand_written_digit/22520236', '/content/drive/MyDrive/CS114.P21/Toan02Ky-UIT_CS114/hand_written_digit/23520988', '/content/drive/MyDrive/CS114.P21/Toan02Ky-UIT_CS114/hand_written_digit/23521592', '/content/drive/MyDrive/CS114.P21/Toan02Ky-UIT_CS114/hand_written_digit/23521607', '/content/drive/MyDrive/CS114.P21/Toan02Ky-UIT_CS114/hand_written_digit/23521829', '/content/drive/MyDrive/CS114.P21/Lochke_CS114_Handwritten_Digit_Classification.git/hand_written_digit/22520717', '/content/drive/MyDrive/CS114.P21/Lochke_CS114_Handwritten_Digit_Classification.git/hand_written_digit/22520791', '/content/drive/MyDrive/CS114.P21/toanlamdata_digit-recognition-group/hand_written_digit/21522592', '/content/drive/MyDrive/CS114.P21/toanlamdata_digit-recognition-group/hand_written_digit/21522689', '/content/drive/MyDrive/CS114.P21/Nohenshin_CS114.P21-2025-/hand_written_digit/23521439', '/content/drive/MyDrive/CS114.P21/Nohenshin_CS114.P21-2025-/hand_written_digit/23521491', '/content/drive/MyDrive/CS114.P21/Nohenshin_CS114.P21-2025-/hand_written_digit/23521582', '/content/drive/MyDrive/CS114.P21/hmcslearning_ML1142025/hand_written_digit/22520858', '/content/drive/MyDrive/CS114.P21/lngphgthao_cs114-hand-written-digit-classification/hand_written_digit/23521379', '/content/drive/MyDrive/CS114.P21/lngphgthao_cs114-hand-written-digit-classification/hand_written_digit/23521452', '/content/drive/MyDrive/CS114.P21/lngphgthao_cs114-hand-written-digit-classification/hand_written_digit/23521467', '/content/drive/MyDrive/CS114.P21/NThong325_CS114/hand_written_digit/23521365', '/content/drive/MyDrive/CS114.P21/NThong325_CS114/hand_written_digit/23521462', '/content/drive/MyDrive/CS114.P21/NThong325_CS114/hand_written_digit/23521523', '/content/drive/MyDrive/CS114.P21/23520276_Hand-written-digit-classification/hand_written_digit/23520276']\n",
            "    mssv    0    1    2    3    4    5    6    7    8    9    sum\n",
            "--------  ---  ---  ---  ---  ---  ---  ---  ---  ---  ---  -----\n",
            "22520369   15   15   15   15   15   15   15   15   15   15    150\n",
            "23521387   10   10   10   10   10   10   10   10   10   10    100\n",
            "23521419   10   10   10   10   10   10   10   10   10   10    100\n",
            "22520068   10   10   10   10   10   10   10   10   10   10    100\n",
            "22520069   10   10   10   10   10   10   10   10   10   10    100\n",
            "22520109   10   10   10   10   10   10   10   10   10   10    100\n",
            "23520550   10   10   10   10   10   10   10   10   10   10    100\n",
            "23520667   10   10   10   10   10   10   10   10   10   10    100\n",
            "23521481   10   10   10   10   10   10   10   10   10   10    100\n",
            "23520172   10   10   10   10   10   10   10   10   10   10    100\n",
            "23520422   10   10   10   10   10   10   10   10   10   10    100\n",
            "23520513   10   10   10   10   10   10   10   10   10   10    100\n",
            "22520077   10   10   10   10   10   10   10   10   10   10    100\n",
            "22520696   10   10   10   10   10   10   10   10   10   10    100\n",
            "22521154   20   20   20   20   20   20   20   20   20   20    200\n",
            "22521583   10   10   10   10   10   10   10   10   10   10    100\n",
            "23520553   10   10   10   10   10   10   10   10   10   10    100\n",
            "23520790    9   16   12   11   15    7   10   13   10   11    114\n",
            "23520905   10   10   10   10   10   10   10   10   10   10    100\n",
            "23521503   10   10   10   10   10   10   10   10   10   10    100\n",
            "23521511   10   10   10   10   10   10   10   10   10   10    100\n",
            "23521515   10   10   10   10   10   10   10   10   10   10    100\n",
            "23520886   10   10   10   10   10   10   10   10   10   10    100\n",
            "23520956   10   10   10   10   10   10   10   10   10   10    100\n",
            "23521727   10   10   10   10   10   10   10   10   15   10    105\n",
            "23521787   10   10   10   10   10   10   10   10   10   10    100\n",
            "22521604   10   10   10   10   10   10   10   10   10   10    100\n",
            "23520967   10   10   10   10   10   10   10   10   10   10    100\n",
            "22520710   10   10   10   10   10   10   10   10   10   10    100\n",
            "23520705   10   10   10   10   10   10   10   10   10   10    100\n",
            "23520732   10   10   10   10   10   10   10   10   10   10    100\n",
            "23521085   10   10   10   10   10   10   10   10   10   10    100\n",
            "22520483   10   10   10   10   10   10   10   10   10   10    100\n",
            "23520117    8   10   10   10   11   10   10   11   10   10    100\n",
            "23520566   25   19   25   28   26   27   26   25   26   29    256\n",
            "23521839   16   17   18   15   16   17   14   18   16   19    166\n",
            "22520192   21   21   21   21   21   21   21   21   21   21    210\n",
            "23520520   12   12   12   12   12   12   12   12   12   12    120\n",
            "23520746   11   11   11   11   11   10   10   10   10   10    105\n",
            "23521229   10   10   10   10   10   10   10   10   10   10    100\n",
            "23521374   10   10   10   10   10   10   10   10   10   10    100\n",
            "23521706   10   10   10   10   10   10   10   10   10   10    100\n",
            "22520019   13   16   13   13   13   11   14   15   12   13    133\n",
            "22520236   10   10   10   10   10   10   10   10   10   10    100\n",
            "23520988   10   10   10   10   10   10   10   10   10   10    100\n",
            "23521592   10   10   10   10   10   10   10   10   10   10    100\n",
            "23521607   10   10   10   10   10   10   10   10   10   10    100\n",
            "23521829   10   10   10   10   10   10   10   10   10   10    100\n",
            "22520717    0   10   10   10   10   10   10   10   10   10     90\n",
            "22520791   10   10   10   10   10   10   10   10   10   10    100\n",
            "21522592   12   12   16   12   12    7    8    8    6    6     99\n",
            "21522689   10   10   10   10   10   10   10   10   10   10    100\n",
            "23521439   10   10   10   10   10   10   10   10   10   10    100\n",
            "23521491   10   10   10   10   10   10   10   10   10   10    100\n",
            "23521582   10   10   10   10   10   10   10   10   10   10    100\n",
            "22520858   10   10   10   10   10   10   10   10   10   10    100\n",
            "23521379   10   10   10   10   10   10   10   10   10   10    100\n",
            "23521452   10   10   10   10   10   10   10   10   10   10    100\n",
            "23521467   10   10   10   10   10   10   10   10   10   10    100\n",
            "23521365   10   10   10   10   10   10   10   10   10   10    100\n",
            "23521462   10   10   10   10   10   10   10   10   10   10    100\n",
            "23521523   10   10   10   10   12   10   13   12   12   11    110\n",
            "23520276   10   10   10   10   10   10   10   10   10   10    100\n"
          ]
        }
      ],
      "source": [
        "import os\n",
        "import glob\n",
        "# import path\n",
        "a = glob.glob(f'{data_dir}/*/hand_written_digit/??52????')\n",
        "print(a)\n",
        "\n",
        "table =  []\n",
        "\n",
        "for folder in a:\n",
        "  mssv = os.path.basename(folder)\n",
        "  # print(mssv)\n",
        "  table.append([mssv])\n",
        "  for num in range(10):\n",
        "    li = glob.glob(f'{folder}/{num}_*')\n",
        "    # print(li)\n",
        "    table[-1].append(len(li))\n",
        "  table[-1].append(sum(table[-1][1:]))\n",
        "\n",
        "# print(table)\n",
        "from tabulate import tabulate\n",
        "tab  = tabulate(table, headers=['mssv', *range(10), 'sum'])\n",
        "print(tab)"
      ]
    },
    {
      "cell_type": "markdown",
      "metadata": {
        "id": "1yuT6Vz9xvSo"
      },
      "source": [
        "### Preprocessing data"
      ]
    },
    {
      "cell_type": "code",
      "execution_count": 6,
      "metadata": {
        "colab": {
          "base_uri": "https://localhost:8080/"
        },
        "id": "u31ABDkCAs6O",
        "outputId": "c58930e3-a9e5-4768-fa37-5e980fa51c5d"
      },
      "outputs": [
        {
          "output_type": "stream",
          "name": "stdout",
          "text": [
            "['/content/drive/MyDrive/CS114.P21/GwLewis369_Hand-written-digit-classification-data.git/hand_written_digit/22520369', '/content/drive/MyDrive/CS114.P21/GwLewis369_Hand-written-digit-classification-data.git/hand_written_digit/23521387', '/content/drive/MyDrive/CS114.P21/GwLewis369_Hand-written-digit-classification-data.git/hand_written_digit/23521419', '/content/drive/MyDrive/CS114.P21/gbaonr_CS114_handwritten_digits_data/hand_written_digit/22520068', '/content/drive/MyDrive/CS114.P21/gbaonr_CS114_handwritten_digits_data/hand_written_digit/22520069', '/content/drive/MyDrive/CS114.P21/gbaonr_CS114_handwritten_digits_data/hand_written_digit/22520109', '/content/drive/MyDrive/CS114.P21/adamwhite625_CS114_hand_written_digit.git/hand_written_digit/23520550', '/content/drive/MyDrive/CS114.P21/adamwhite625_CS114_hand_written_digit.git/hand_written_digit/23520667', '/content/drive/MyDrive/CS114.P21/adamwhite625_CS114_hand_written_digit.git/hand_written_digit/23521481', '/content/drive/MyDrive/CS114.P21/theRaven1312_CS114.P21/hand_written_digit/23520172', '/content/drive/MyDrive/CS114.P21/theRaven1312_CS114.P21/hand_written_digit/23520422', '/content/drive/MyDrive/CS114.P21/theRaven1312_CS114.P21/hand_written_digit/23520513', '/content/drive/MyDrive/CS114.P21/Khoiisme1905_CS114.git/hand_written_digit/22520077', '/content/drive/MyDrive/CS114.P21/Khoiisme1905_CS114.git/hand_written_digit/22520696', '/content/drive/MyDrive/CS114.P21/Khoiisme1905_CS114.git/hand_written_digit/22521154', '/content/drive/MyDrive/CS114.P21/Khoiisme1905_CS114.git/hand_written_digit/22521583', '/content/drive/MyDrive/CS114.P21/ProjectHT1_machinelearning/hand_written_digit/23520553', '/content/drive/MyDrive/CS114.P21/ProjectHT1_machinelearning/hand_written_digit/23520790', '/content/drive/MyDrive/CS114.P21/ProjectHT1_machinelearning/hand_written_digit/23520905', '/content/drive/MyDrive/CS114.P21/Searching96_hand-written-digit.git/hand_written_digit/23521503', '/content/drive/MyDrive/CS114.P21/Searching96_hand-written-digit.git/hand_written_digit/23521511', '/content/drive/MyDrive/CS114.P21/Searching96_hand-written-digit.git/hand_written_digit/23521515', '/content/drive/MyDrive/CS114.P21/anhtuann1224_hand_written_digit/hand_written_digit/23520886', '/content/drive/MyDrive/CS114.P21/anhtuann1224_hand_written_digit/hand_written_digit/23520956', '/content/drive/MyDrive/CS114.P21/anhtuann1224_hand_written_digit/hand_written_digit/23521727', '/content/drive/MyDrive/CS114.P21/anhtuann1224_hand_written_digit/hand_written_digit/23521787', '/content/drive/MyDrive/CS114.P21/NATuanAN_Hand_written_digit_classification_data.git/hand_written_digit/22521604', '/content/drive/MyDrive/CS114.P21/NATuanAN_Hand_written_digit_classification_data.git/hand_written_digit/23520967', '/content/drive/MyDrive/CS114.P21/hieutran890j2_CS114.git/hand_written_digit/22520710', '/content/drive/MyDrive/CS114.P21/hieutran890j2_CS114.git/hand_written_digit/23520705', '/content/drive/MyDrive/CS114.P21/hieutran890j2_CS114.git/hand_written_digit/23520732', '/content/drive/MyDrive/CS114.P21/hieutran890j2_CS114.git/hand_written_digit/23521085', '/content/drive/MyDrive/CS114.P21/votanhoang483_CS114.P21-Hand_written_digit_classification/hand_written_digit/22520483', '/content/drive/MyDrive/CS114.P21/votanhoang483_CS114.P21-Hand_written_digit_classification/hand_written_digit/23520117', '/content/drive/MyDrive/CS114.P21/votanhoang483_CS114.P21-Hand_written_digit_classification/hand_written_digit/23520566', '/content/drive/MyDrive/CS114.P21/votanhoang483_CS114.P21-Hand_written_digit_classification/hand_written_digit/23521839', '/content/drive/MyDrive/CS114.P21/DHPh_CS114_hand_written_digit/hand_written_digit/22520192', '/content/drive/MyDrive/CS114.P21/DHPh_CS114_hand_written_digit/hand_written_digit/23520520', '/content/drive/MyDrive/CS114.P21/DHPh_CS114_hand_written_digit/hand_written_digit/23520746', '/content/drive/MyDrive/CS114.P21/thaituanUIT_ReminiScenceAI/hand_written_digit/23521229', '/content/drive/MyDrive/CS114.P21/thaituanUIT_ReminiScenceAI/hand_written_digit/23521374', '/content/drive/MyDrive/CS114.P21/thaituanUIT_ReminiScenceAI/hand_written_digit/23521706', '/content/drive/MyDrive/CS114.P21/anngyn_CS114-Hand-Written-Digit/hand_written_digit/22520019', '/content/drive/MyDrive/CS114.P21/anngyn_CS114-Hand-Written-Digit/hand_written_digit/22520236', '/content/drive/MyDrive/CS114.P21/Toan02Ky-UIT_CS114/hand_written_digit/23520988', '/content/drive/MyDrive/CS114.P21/Toan02Ky-UIT_CS114/hand_written_digit/23521592', '/content/drive/MyDrive/CS114.P21/Toan02Ky-UIT_CS114/hand_written_digit/23521607', '/content/drive/MyDrive/CS114.P21/Toan02Ky-UIT_CS114/hand_written_digit/23521829', '/content/drive/MyDrive/CS114.P21/Lochke_CS114_Handwritten_Digit_Classification.git/hand_written_digit/22520717', '/content/drive/MyDrive/CS114.P21/Lochke_CS114_Handwritten_Digit_Classification.git/hand_written_digit/22520791', '/content/drive/MyDrive/CS114.P21/toanlamdata_digit-recognition-group/hand_written_digit/21522592', '/content/drive/MyDrive/CS114.P21/toanlamdata_digit-recognition-group/hand_written_digit/21522689', '/content/drive/MyDrive/CS114.P21/Nohenshin_CS114.P21-2025-/hand_written_digit/23521439', '/content/drive/MyDrive/CS114.P21/Nohenshin_CS114.P21-2025-/hand_written_digit/23521491', '/content/drive/MyDrive/CS114.P21/Nohenshin_CS114.P21-2025-/hand_written_digit/23521582', '/content/drive/MyDrive/CS114.P21/hmcslearning_ML1142025/hand_written_digit/22520858', '/content/drive/MyDrive/CS114.P21/lngphgthao_cs114-hand-written-digit-classification/hand_written_digit/23521379', '/content/drive/MyDrive/CS114.P21/lngphgthao_cs114-hand-written-digit-classification/hand_written_digit/23521452', '/content/drive/MyDrive/CS114.P21/lngphgthao_cs114-hand-written-digit-classification/hand_written_digit/23521467', '/content/drive/MyDrive/CS114.P21/NThong325_CS114/hand_written_digit/23521365', '/content/drive/MyDrive/CS114.P21/NThong325_CS114/hand_written_digit/23521462', '/content/drive/MyDrive/CS114.P21/NThong325_CS114/hand_written_digit/23521523', '/content/drive/MyDrive/CS114.P21/23520276_Hand-written-digit-classification/hand_written_digit/23520276']\n"
          ]
        }
      ],
      "source": [
        "import os\n",
        "import glob\n",
        "\n",
        "import torch\n",
        "from torch.utils.data import Dataset\n",
        "from torchvision import datasets\n",
        "from torchvision import transforms\n",
        "from torchvision.transforms.v2 import ToTensor\n",
        "import matplotlib.pyplot as plt\n",
        "from torchvision.io import read_image\n",
        "from torchvision.io import decode_image\n",
        "\n",
        "# import path\n",
        "a = glob.glob(f'{data_dir}/*/hand_written_digit/??52????')\n",
        "print(a)\n",
        "image_lists = []\n",
        "for folder in a:\n",
        "  for num in range(10):\n",
        "    t = glob.glob(f'{folder}/{num}_*')\n",
        "    image_lists += t\n",
        "\n",
        "\n"
      ]
    },
    {
      "cell_type": "markdown",
      "metadata": {
        "id": "OpP0wQG-KZpe"
      },
      "source": []
    },
    {
      "cell_type": "code",
      "execution_count": 7,
      "metadata": {
        "id": "QLj8HVTRA3HP"
      },
      "outputs": [],
      "source": [
        "class custom_image_dataset(torch.utils.data.IterableDataset):\n",
        "    def __init__(self, image_lists, transform=None):\n",
        "        # self.img_labels = pd.read_csv(annotations_file)\n",
        "        self.image_lists = image_lists\n",
        "        self.transform = transform\n",
        "        # self.target_transform = target_transform\n",
        "\n",
        "\n",
        "    def __read_image(self, img_path):\n",
        "        # img_path = self.image_lists[idx]\n",
        "        try:\n",
        "          image = decode_image(img_path, mode=\"RGB\")\n",
        "\n",
        "          truth = torch.tensor(int( os.path.basename(img_path)[0]))\n",
        "          # label = torch.zeros(10, dtype=torch.float)\n",
        "          # label[int(truth)] = 1\n",
        "          if self.transform:\n",
        "              image = self.transform(image)\n",
        "          return image, truth, img_path # Path sẽ rất cần để debug\n",
        "        except:\n",
        "          return None\n",
        "    def __iter__(self):\n",
        "        worker_info = torch.utils.data.get_worker_info()\n",
        "        if worker_info is None:  # single-process data loading, return the full iterator\n",
        "            iter_start = 0\n",
        "            iter_end = len(self.image_lists)\n",
        "        else:  # in a worker process\n",
        "            # split workload\n",
        "            per_worker = int(len(self.image_lists) / float(worker_info.num_workers))\n",
        "            worker_id = worker_info.id\n",
        "            iter_start =  worker_id * per_worker\n",
        "            iter_end = min(iter_start + per_worker, len(self.image_lists))\n",
        "        return iter(\n",
        "            filter(lambda x : x is not None\n",
        "                  , map(self.__read_image, self.image_lists[iter_start : iter_end] )\n",
        "            )\n",
        "        )\n",
        "    # Add __len__ method to support DataLoader with tqdm\n",
        "    def __len__(self):\n",
        "        return len(self.image_lists)"
      ]
    },
    {
      "cell_type": "code",
      "execution_count": 8,
      "metadata": {
        "colab": {
          "base_uri": "https://localhost:8080/"
        },
        "id": "qjg2rSy7A0Xa",
        "outputId": "baa022f5-4d28-4666-e7c4-184b75ce5e50"
      },
      "outputs": [
        {
          "output_type": "stream",
          "name": "stdout",
          "text": [
            "<class 'torch.Tensor'>\n",
            "64\n",
            "tensor([0, 0, 0, 0, 0, 0, 0, 0, 0, 0, 0, 0, 0, 0, 0, 1, 1, 1, 1, 1, 1, 1, 1, 1,\n",
            "        1, 1, 1, 1, 1, 1, 2, 2, 2, 2, 2, 2, 2, 2, 2, 2, 2, 2, 2, 2, 2, 3, 3, 3,\n",
            "        3, 3, 3, 3, 3, 3, 3, 3, 3, 3, 3, 3, 4, 4, 4, 4])\n"
          ]
        }
      ],
      "source": [
        "from torch.utils.data import DataLoader\n",
        "split = int(0.8*len(image_lists))\n",
        "\n",
        "train_dataset = custom_image_dataset(\n",
        "    image_lists[:split]\n",
        "    , transforms.v2.Compose([\n",
        "      transforms.v2.Resize((224,224))\n",
        "      ,transforms.v2.ToDtype(torch.float32, scale=True)\n",
        "    ])\n",
        ")\n",
        "\n",
        "\n",
        "test_dataset = custom_image_dataset(image_lists[split:]\n",
        "    , transforms.v2.Compose([\n",
        "        transforms.v2.Resize((224,224))\n",
        "        , transforms.v2.ToDtype(torch.float32,  scale=True)\n",
        "    ])\n",
        ")\n",
        "\n",
        "\n",
        "train_dataloader = DataLoader(train_dataset, batch_size=64, num_workers = 2)\n",
        "\n",
        "test_dataloader = DataLoader(test_dataset, batch_size=64)\n",
        "\n",
        "\n",
        "for a in train_dataloader:\n",
        "  print(type(a[1]))\n",
        "  print(len(a[1]))\n",
        "  print(a[1])\n",
        "  break"
      ]
    },
    {
      "cell_type": "code",
      "execution_count": 9,
      "metadata": {
        "colab": {
          "base_uri": "https://localhost:8080/",
          "height": 153,
          "referenced_widgets": [
            "e14bbffa2cda42c886b322966ab4042b",
            "087f65efe6a140ffaff9b469bfc9feda",
            "ab73bbf59cff4b5da61ada7544e260b2",
            "d46f994a791b4373ae79a765c5c0808f",
            "6767f851bcfb4ead95dbb414e2dafacb",
            "a95bd84259044983b7da43c96485e9ad",
            "4b593c84f97d4b069b898fa5f877d849",
            "85cecb64e2dd48028d569049969ad214",
            "2c3e5b1a57b74b98ad725703b3fcf8fd",
            "0be92137f020448a850ff958acb3fc56",
            "7dd35aa1ec61411582d38e3e92a83d59"
          ]
        },
        "id": "VElNxSBeBcW9",
        "outputId": "42b38459-621f-4b9e-f178-d4e1d2b05d84"
      },
      "outputs": [
        {
          "output_type": "stream",
          "name": "stderr",
          "text": [
            "/usr/local/lib/python3.11/dist-packages/huggingface_hub/utils/_auth.py:94: UserWarning: \n",
            "The secret `HF_TOKEN` does not exist in your Colab secrets.\n",
            "To authenticate with the Hugging Face Hub, create a token in your settings tab (https://huggingface.co/settings/tokens), set it as secret in your Google Colab and restart your session.\n",
            "You will be able to reuse this secret in all of your notebooks.\n",
            "Please note that authentication is recommended but still optional to access public models or datasets.\n",
            "  warnings.warn(\n"
          ]
        },
        {
          "output_type": "display_data",
          "data": {
            "text/plain": [
              "model.safetensors:   0%|          | 0.00/22.9M [00:00<?, ?B/s]"
            ],
            "application/vnd.jupyter.widget-view+json": {
              "version_major": 2,
              "version_minor": 0,
              "model_id": "e14bbffa2cda42c886b322966ab4042b"
            }
          },
          "metadata": {}
        }
      ],
      "source": [
        "import torch.nn as nn\n",
        "import timm  # Pretrained ViT models\n",
        "\n",
        "model = timm.create_model('vit_tiny_patch16_224', pretrained=True)\n",
        "model.head = nn.Linear(model.head.in_features, 10)\n"
      ]
    },
    {
      "cell_type": "code",
      "execution_count": 10,
      "metadata": {
        "id": "_U7YzZplBIdk"
      },
      "outputs": [],
      "source": [
        "import torch.optim as optim\n",
        "\n",
        "device = torch.device(\"cuda\" if torch.cuda.is_available() else \"cpu\")\n",
        "model = model.to(device)\n",
        "\n",
        "# Loss function và optimizer\n",
        "criterion = nn.CrossEntropyLoss()\n",
        "optimizer = optim.Adam(model.parameters(), lr=1e-4)\n"
      ]
    },
    {
      "cell_type": "code",
      "execution_count": 11,
      "metadata": {
        "id": "YG7HeZErBg25"
      },
      "outputs": [],
      "source": [
        "from tqdm import tqdm\n",
        "\n",
        "def train_model(model, train_loader, test_loader, criterion, optimizer, epochs=10):\n",
        "    for epoch in range(epochs):\n",
        "        model.train()\n",
        "        running_loss = 0.0\n",
        "\n",
        "        for images, labels, _ in tqdm(train_loader, desc=f\"Epoch {epoch+1}/{epochs}\"):\n",
        "            images, labels = images.to(device), labels.to(device)\n",
        "\n",
        "            optimizer.zero_grad()\n",
        "            outputs = model(images)\n",
        "            loss = criterion(outputs, labels)\n",
        "            loss.backward()\n",
        "            optimizer.step()\n",
        "\n",
        "            running_loss += loss.item()\n",
        "\n",
        "        print(f\"Epoch {epoch+1} - Loss: {running_loss / len(train_loader):.4f}\")\n",
        "        evaluate(model, test_loader)\n",
        "\n",
        "def evaluate(model, test_loader):\n",
        "    model.eval()\n",
        "    correct = 0\n",
        "    total = 0\n",
        "\n",
        "    with torch.no_grad():\n",
        "        for images, labels, _ in test_loader:\n",
        "            images, labels = images.to(device), labels.to(device)\n",
        "            outputs = model(images)\n",
        "            _, predicted = torch.max(outputs.data, 1)\n",
        "            total += labels.size(0)\n",
        "            correct += (predicted == labels).sum().item()\n",
        "\n",
        "    print(f\"Test Accuracy: {100 * correct / total:.2f}%\")\n"
      ]
    },
    {
      "cell_type": "code",
      "execution_count": null,
      "metadata": {
        "colab": {
          "base_uri": "https://localhost:8080/"
        },
        "id": "jUJca896Bhaa",
        "outputId": "b2371de1-6233-46ab-fe17-d87c601a2e8a"
      },
      "outputs": [
        {
          "output_type": "stream",
          "name": "stderr",
          "text": [
            "Epoch 1/30:  80%|████████  | 69/86 [02:57<00:43,  2.57s/it]"
          ]
        }
      ],
      "source": [
        "train_model(model, train_dataloader, test_dataloader, criterion, optimizer, epochs=30)\n",
        "\n",
        "# Lưu mô hình\n",
        "torch.save(model.state_dict(), '/content/drive/MyDrive/model_vit.pth')"
      ]
    },
    {
      "cell_type": "code",
      "execution_count": null,
      "metadata": {
        "id": "zZ-VSHyVKDXY"
      },
      "outputs": [],
      "source": [
        "import torch\n",
        "import torch.nn as nn\n",
        "from PIL import Image\n",
        "from torchvision import transforms\n",
        "import timm\n",
        "import os\n",
        "\n",
        "# Load model\n",
        "model.load_state_dict(torch.load(\"model_vit.pth\", map_location='cpu'))\n",
        "model.eval()\n",
        "\n",
        "# Image preprocessing\n",
        "transform = transforms.Compose([\n",
        "    transforms.Resize((224, 224)),\n",
        "    transforms.ToTensor(),\n",
        "    transforms.Normalize((0.5, 0.5, 0.5), (0.5, 0.5, 0.5))\n",
        "])\n",
        "\n",
        "# Load and predict an image\n",
        "import matplotlib.pyplot as plt\n",
        "\n",
        "# Load 100 images and predict\n",
        "images = []\n",
        "labels = []\n",
        "# Get the first 100 image file names from the folder\n",
        "folder_path = '/content/drive/MyDrive/test_data'\n",
        "image_files = sorted([f for f in os.listdir(folder_path) if f.lower().endswith(('.png', '.jpg', '.jpeg'))])[900:1000]\n",
        "\n",
        "for img_file in image_files:\n",
        "    img_path = os.path.join(folder_path, img_file)\n",
        "    img = Image.open(img_path).convert(\"RGB\")\n",
        "    x = transform(img).unsqueeze(0)\n",
        "    with torch.no_grad():\n",
        "        output = model(x)\n",
        "        pred = torch.argmax(output, dim=1).item()\n",
        "    images.append(img)\n",
        "    labels.append(pred)\n",
        "\n",
        "# Visualize 100 images with their predicted labels\n",
        "plt.figure(figsize=(20, 20))\n",
        "for i in range(100):\n",
        "    plt.subplot(10, 10, i + 1)\n",
        "    plt.imshow(images[i])\n",
        "    plt.title(str(labels[i]))\n",
        "    plt.axis('off')\n",
        "\n",
        "plt.tight_layout()\n",
        "\n",
        "plt.subplots_adjust(wspace=0.6, hspace=0.6, top=0.92)\n",
        "plt.show()\n"
      ]
    }
  ],
  "metadata": {
    "accelerator": "GPU",
    "colab": {
      "gpuType": "T4",
      "provenance": [],
      "include_colab_link": true
    },
    "kernelspec": {
      "display_name": "Python 3",
      "name": "python3"
    },
    "language_info": {
      "name": "python"
    },
    "widgets": {
      "application/vnd.jupyter.widget-state+json": {
        "e14bbffa2cda42c886b322966ab4042b": {
          "model_module": "@jupyter-widgets/controls",
          "model_name": "HBoxModel",
          "model_module_version": "1.5.0",
          "state": {
            "_dom_classes": [],
            "_model_module": "@jupyter-widgets/controls",
            "_model_module_version": "1.5.0",
            "_model_name": "HBoxModel",
            "_view_count": null,
            "_view_module": "@jupyter-widgets/controls",
            "_view_module_version": "1.5.0",
            "_view_name": "HBoxView",
            "box_style": "",
            "children": [
              "IPY_MODEL_087f65efe6a140ffaff9b469bfc9feda",
              "IPY_MODEL_ab73bbf59cff4b5da61ada7544e260b2",
              "IPY_MODEL_d46f994a791b4373ae79a765c5c0808f"
            ],
            "layout": "IPY_MODEL_6767f851bcfb4ead95dbb414e2dafacb"
          }
        },
        "087f65efe6a140ffaff9b469bfc9feda": {
          "model_module": "@jupyter-widgets/controls",
          "model_name": "HTMLModel",
          "model_module_version": "1.5.0",
          "state": {
            "_dom_classes": [],
            "_model_module": "@jupyter-widgets/controls",
            "_model_module_version": "1.5.0",
            "_model_name": "HTMLModel",
            "_view_count": null,
            "_view_module": "@jupyter-widgets/controls",
            "_view_module_version": "1.5.0",
            "_view_name": "HTMLView",
            "description": "",
            "description_tooltip": null,
            "layout": "IPY_MODEL_a95bd84259044983b7da43c96485e9ad",
            "placeholder": "​",
            "style": "IPY_MODEL_4b593c84f97d4b069b898fa5f877d849",
            "value": "model.safetensors: 100%"
          }
        },
        "ab73bbf59cff4b5da61ada7544e260b2": {
          "model_module": "@jupyter-widgets/controls",
          "model_name": "FloatProgressModel",
          "model_module_version": "1.5.0",
          "state": {
            "_dom_classes": [],
            "_model_module": "@jupyter-widgets/controls",
            "_model_module_version": "1.5.0",
            "_model_name": "FloatProgressModel",
            "_view_count": null,
            "_view_module": "@jupyter-widgets/controls",
            "_view_module_version": "1.5.0",
            "_view_name": "ProgressView",
            "bar_style": "success",
            "description": "",
            "description_tooltip": null,
            "layout": "IPY_MODEL_85cecb64e2dd48028d569049969ad214",
            "max": 22883348,
            "min": 0,
            "orientation": "horizontal",
            "style": "IPY_MODEL_2c3e5b1a57b74b98ad725703b3fcf8fd",
            "value": 22883348
          }
        },
        "d46f994a791b4373ae79a765c5c0808f": {
          "model_module": "@jupyter-widgets/controls",
          "model_name": "HTMLModel",
          "model_module_version": "1.5.0",
          "state": {
            "_dom_classes": [],
            "_model_module": "@jupyter-widgets/controls",
            "_model_module_version": "1.5.0",
            "_model_name": "HTMLModel",
            "_view_count": null,
            "_view_module": "@jupyter-widgets/controls",
            "_view_module_version": "1.5.0",
            "_view_name": "HTMLView",
            "description": "",
            "description_tooltip": null,
            "layout": "IPY_MODEL_0be92137f020448a850ff958acb3fc56",
            "placeholder": "​",
            "style": "IPY_MODEL_7dd35aa1ec61411582d38e3e92a83d59",
            "value": " 22.9M/22.9M [00:00&lt;00:00, 50.2MB/s]"
          }
        },
        "6767f851bcfb4ead95dbb414e2dafacb": {
          "model_module": "@jupyter-widgets/base",
          "model_name": "LayoutModel",
          "model_module_version": "1.2.0",
          "state": {
            "_model_module": "@jupyter-widgets/base",
            "_model_module_version": "1.2.0",
            "_model_name": "LayoutModel",
            "_view_count": null,
            "_view_module": "@jupyter-widgets/base",
            "_view_module_version": "1.2.0",
            "_view_name": "LayoutView",
            "align_content": null,
            "align_items": null,
            "align_self": null,
            "border": null,
            "bottom": null,
            "display": null,
            "flex": null,
            "flex_flow": null,
            "grid_area": null,
            "grid_auto_columns": null,
            "grid_auto_flow": null,
            "grid_auto_rows": null,
            "grid_column": null,
            "grid_gap": null,
            "grid_row": null,
            "grid_template_areas": null,
            "grid_template_columns": null,
            "grid_template_rows": null,
            "height": null,
            "justify_content": null,
            "justify_items": null,
            "left": null,
            "margin": null,
            "max_height": null,
            "max_width": null,
            "min_height": null,
            "min_width": null,
            "object_fit": null,
            "object_position": null,
            "order": null,
            "overflow": null,
            "overflow_x": null,
            "overflow_y": null,
            "padding": null,
            "right": null,
            "top": null,
            "visibility": null,
            "width": null
          }
        },
        "a95bd84259044983b7da43c96485e9ad": {
          "model_module": "@jupyter-widgets/base",
          "model_name": "LayoutModel",
          "model_module_version": "1.2.0",
          "state": {
            "_model_module": "@jupyter-widgets/base",
            "_model_module_version": "1.2.0",
            "_model_name": "LayoutModel",
            "_view_count": null,
            "_view_module": "@jupyter-widgets/base",
            "_view_module_version": "1.2.0",
            "_view_name": "LayoutView",
            "align_content": null,
            "align_items": null,
            "align_self": null,
            "border": null,
            "bottom": null,
            "display": null,
            "flex": null,
            "flex_flow": null,
            "grid_area": null,
            "grid_auto_columns": null,
            "grid_auto_flow": null,
            "grid_auto_rows": null,
            "grid_column": null,
            "grid_gap": null,
            "grid_row": null,
            "grid_template_areas": null,
            "grid_template_columns": null,
            "grid_template_rows": null,
            "height": null,
            "justify_content": null,
            "justify_items": null,
            "left": null,
            "margin": null,
            "max_height": null,
            "max_width": null,
            "min_height": null,
            "min_width": null,
            "object_fit": null,
            "object_position": null,
            "order": null,
            "overflow": null,
            "overflow_x": null,
            "overflow_y": null,
            "padding": null,
            "right": null,
            "top": null,
            "visibility": null,
            "width": null
          }
        },
        "4b593c84f97d4b069b898fa5f877d849": {
          "model_module": "@jupyter-widgets/controls",
          "model_name": "DescriptionStyleModel",
          "model_module_version": "1.5.0",
          "state": {
            "_model_module": "@jupyter-widgets/controls",
            "_model_module_version": "1.5.0",
            "_model_name": "DescriptionStyleModel",
            "_view_count": null,
            "_view_module": "@jupyter-widgets/base",
            "_view_module_version": "1.2.0",
            "_view_name": "StyleView",
            "description_width": ""
          }
        },
        "85cecb64e2dd48028d569049969ad214": {
          "model_module": "@jupyter-widgets/base",
          "model_name": "LayoutModel",
          "model_module_version": "1.2.0",
          "state": {
            "_model_module": "@jupyter-widgets/base",
            "_model_module_version": "1.2.0",
            "_model_name": "LayoutModel",
            "_view_count": null,
            "_view_module": "@jupyter-widgets/base",
            "_view_module_version": "1.2.0",
            "_view_name": "LayoutView",
            "align_content": null,
            "align_items": null,
            "align_self": null,
            "border": null,
            "bottom": null,
            "display": null,
            "flex": null,
            "flex_flow": null,
            "grid_area": null,
            "grid_auto_columns": null,
            "grid_auto_flow": null,
            "grid_auto_rows": null,
            "grid_column": null,
            "grid_gap": null,
            "grid_row": null,
            "grid_template_areas": null,
            "grid_template_columns": null,
            "grid_template_rows": null,
            "height": null,
            "justify_content": null,
            "justify_items": null,
            "left": null,
            "margin": null,
            "max_height": null,
            "max_width": null,
            "min_height": null,
            "min_width": null,
            "object_fit": null,
            "object_position": null,
            "order": null,
            "overflow": null,
            "overflow_x": null,
            "overflow_y": null,
            "padding": null,
            "right": null,
            "top": null,
            "visibility": null,
            "width": null
          }
        },
        "2c3e5b1a57b74b98ad725703b3fcf8fd": {
          "model_module": "@jupyter-widgets/controls",
          "model_name": "ProgressStyleModel",
          "model_module_version": "1.5.0",
          "state": {
            "_model_module": "@jupyter-widgets/controls",
            "_model_module_version": "1.5.0",
            "_model_name": "ProgressStyleModel",
            "_view_count": null,
            "_view_module": "@jupyter-widgets/base",
            "_view_module_version": "1.2.0",
            "_view_name": "StyleView",
            "bar_color": null,
            "description_width": ""
          }
        },
        "0be92137f020448a850ff958acb3fc56": {
          "model_module": "@jupyter-widgets/base",
          "model_name": "LayoutModel",
          "model_module_version": "1.2.0",
          "state": {
            "_model_module": "@jupyter-widgets/base",
            "_model_module_version": "1.2.0",
            "_model_name": "LayoutModel",
            "_view_count": null,
            "_view_module": "@jupyter-widgets/base",
            "_view_module_version": "1.2.0",
            "_view_name": "LayoutView",
            "align_content": null,
            "align_items": null,
            "align_self": null,
            "border": null,
            "bottom": null,
            "display": null,
            "flex": null,
            "flex_flow": null,
            "grid_area": null,
            "grid_auto_columns": null,
            "grid_auto_flow": null,
            "grid_auto_rows": null,
            "grid_column": null,
            "grid_gap": null,
            "grid_row": null,
            "grid_template_areas": null,
            "grid_template_columns": null,
            "grid_template_rows": null,
            "height": null,
            "justify_content": null,
            "justify_items": null,
            "left": null,
            "margin": null,
            "max_height": null,
            "max_width": null,
            "min_height": null,
            "min_width": null,
            "object_fit": null,
            "object_position": null,
            "order": null,
            "overflow": null,
            "overflow_x": null,
            "overflow_y": null,
            "padding": null,
            "right": null,
            "top": null,
            "visibility": null,
            "width": null
          }
        },
        "7dd35aa1ec61411582d38e3e92a83d59": {
          "model_module": "@jupyter-widgets/controls",
          "model_name": "DescriptionStyleModel",
          "model_module_version": "1.5.0",
          "state": {
            "_model_module": "@jupyter-widgets/controls",
            "_model_module_version": "1.5.0",
            "_model_name": "DescriptionStyleModel",
            "_view_count": null,
            "_view_module": "@jupyter-widgets/base",
            "_view_module_version": "1.2.0",
            "_view_name": "StyleView",
            "description_width": ""
          }
        }
      }
    }
  },
  "nbformat": 4,
  "nbformat_minor": 0
}